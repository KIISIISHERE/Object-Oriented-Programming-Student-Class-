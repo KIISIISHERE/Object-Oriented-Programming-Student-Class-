{
  "nbformat": 4,
  "nbformat_minor": 0,
  "metadata": {
    "colab": {
      "provenance": [],
      "authorship_tag": "ABX9TyNDwtxiCHR6g9BULbhZuO2P",
      "include_colab_link": true
    },
    "kernelspec": {
      "name": "python3",
      "display_name": "Python 3"
    },
    "language_info": {
      "name": "python"
    }
  },
  "cells": [
    {
      "cell_type": "markdown",
      "metadata": {
        "id": "view-in-github",
        "colab_type": "text"
      },
      "source": [
        "<a href=\"https://colab.research.google.com/github/KIISIISHERE/Object-Oriented-Programming-Student-Class-/blob/main/Object_Oriented_Programming.ipynb\" target=\"_parent\"><img src=\"https://colab.research.google.com/assets/colab-badge.svg\" alt=\"Open In Colab\"/></a>"
      ]
    },
    {
      "cell_type": "code",
      "source": [
        "# Activity 1 : Student Class\n",
        "# Define the class Student\n",
        "class Student:\n",
        "    def __init__(self, name, grade, age):\n",
        "        self.name = name\n",
        "        self.grade = grade\n",
        "        self.age = age\n",
        "        # Print a sentence inside the class\n",
        "        print(\"\\nStudent details:\")\n",
        "        print(\"Name:\", self.name)\n",
        "        print(\"Grade:\", self.grade)\n",
        "        print(\"Age:\", self.age)\n",
        "# Ask for user input\n",
        "name_input = input(\"Enter student's name: \")\n",
        "grade_input = input(\"Enter student's grade: \")\n",
        "age_input = input((\"Enter student's age: \"))\n",
        "# Create an object of class Student using user input\n",
        "student1 = Student(name_input, grade_input, age_input)"
      ],
      "metadata": {
        "colab": {
          "base_uri": "https://localhost:8080/"
        },
        "collapsed": true,
        "id": "NmNyichW4q34",
        "outputId": "78784b55-d119-45f9-b4a3-6b2799c83bb1"
      },
      "execution_count": null,
      "outputs": [
        {
          "output_type": "stream",
          "name": "stdout",
          "text": [
            "Enter student's name: Iteoluwakiisi Aderiye\n",
            "Enter student's grade: 7\n",
            "Enter student's age: 12\n",
            "\n",
            "Student details:\n",
            "Name: Iteoluwakiisi Aderiye\n",
            "Grade: 7\n",
            "Age: 12\n"
          ]
        }
      ]
    },
    {
      "cell_type": "code",
      "source": [
        "# Activity 2 : Class Vehicle\n",
        "# Define the class Vehicle\n",
        "class Vehicle:\n",
        "    def __init__(self, max_speed, mileage):\n",
        "        self.max_speed = max_speed\n",
        "        self.mileage = mileage\n",
        "# Ask the user for input\n",
        "max_speed_input = int(input(\"Enter the vehicle's maximum speed (in km/h): \"))\n",
        "mileage_input = int(input(\"Enter the vehicle's mileage (in km): \"))\n",
        "# Create an object of class Vehicle using user input\n",
        "car =  Vehicle(max_speed_input, mileage_input)\n",
        "# Print the values using the object\n",
        "print(\"\\nVehicle details:\")\n",
        "print(\"Maximum speed:\", car.max_speed, \"km/h\")\n",
        "print(\"Mileage:\", car.mileage, \"km\")"
      ],
      "metadata": {
        "colab": {
          "base_uri": "https://localhost:8080/"
        },
        "id": "Qnm0OyU_71SN",
        "outputId": "2de9c16d-5d7a-4064-cdb5-164c0c1f6e41"
      },
      "execution_count": 8,
      "outputs": [
        {
          "output_type": "stream",
          "name": "stdout",
          "text": [
            "Enter the vehicle's maximum speed (in km/h): 6\n",
            "Enter the vehicle's mileage (in km): 5\n",
            "\n",
            "Vehicle details:\n",
            "Maximum speed: 6 km/h\n",
            "Mileage: 5 km\n"
          ]
        }
      ]
    }
  ]
}